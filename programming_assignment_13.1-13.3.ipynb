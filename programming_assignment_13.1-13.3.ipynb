{
 "cells": [
  {
   "cell_type": "code",
   "execution_count": null,
   "id": "f239276a",
   "metadata": {},
   "outputs": [],
   "source": [
    "# Jonathan Fulkerson\n",
    "# SDEV 220\n",
    "# Module 6 Programming Assignment 13.1-13.3\n",
    "# 7.29.22"
   ]
  },
  {
   "cell_type": "code",
   "execution_count": 4,
   "id": "2a6c6030",
   "metadata": {},
   "outputs": [],
   "source": [
    "from datetime import date\n",
    "from datetime import datetime"
   ]
  },
  {
   "cell_type": "code",
   "execution_count": 5,
   "id": "dc1705c9",
   "metadata": {},
   "outputs": [],
   "source": [
    "now = date.today()"
   ]
  },
  {
   "cell_type": "code",
   "execution_count": 6,
   "id": "4807e159",
   "metadata": {},
   "outputs": [],
   "source": [
    "with open('today.txt', 'w') as today:\n",
    "    today.write(f\"{now.month}/{now.day}/{now.year}\")"
   ]
  },
  {
   "cell_type": "code",
   "execution_count": 7,
   "id": "2c0c19e1",
   "metadata": {},
   "outputs": [],
   "source": [
    "with open('today.txt', 'r') as today:\n",
    "    today_string = today.readline()"
   ]
  },
  {
   "cell_type": "code",
   "execution_count": 9,
   "id": "ccfc9a03",
   "metadata": {},
   "outputs": [
    {
     "name": "stdout",
     "output_type": "stream",
     "text": [
      "2022-07-29 00:00:00\n"
     ]
    }
   ],
   "source": [
    "parsed_date = datetime.strptime(today_string, '%m/%d/%Y')\n",
    "print(parsed_date)"
   ]
  },
  {
   "cell_type": "code",
   "execution_count": null,
   "id": "c2f662c0",
   "metadata": {},
   "outputs": [],
   "source": []
  }
 ],
 "metadata": {
  "kernelspec": {
   "display_name": "Python 3 (ipykernel)",
   "language": "python",
   "name": "python3"
  },
  "language_info": {
   "codemirror_mode": {
    "name": "ipython",
    "version": 3
   },
   "file_extension": ".py",
   "mimetype": "text/x-python",
   "name": "python",
   "nbconvert_exporter": "python",
   "pygments_lexer": "ipython3",
   "version": "3.9.12"
  }
 },
 "nbformat": 4,
 "nbformat_minor": 5
}
