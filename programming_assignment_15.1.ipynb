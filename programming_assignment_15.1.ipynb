{
 "cells": [
  {
   "cell_type": "code",
   "execution_count": 1,
   "id": "ce3d69ba",
   "metadata": {},
   "outputs": [],
   "source": [
    "# Jonathan Fulkerson\n",
    "# SDEV 220\n",
    "# Module 6 Programming Assignment 13.1-13.3\n",
    "# 7.29.22"
   ]
  },
  {
   "cell_type": "code",
   "execution_count": 48,
   "id": "f9c713db",
   "metadata": {},
   "outputs": [],
   "source": [
    "import multiprocessing as mp\n",
    "import time\n",
    "import random\n",
    "from datetime import date"
   ]
  },
  {
   "cell_type": "code",
   "execution_count": 49,
   "id": "9e42e7cf",
   "metadata": {},
   "outputs": [],
   "source": [
    "def today_date():\n",
    "    time.sleep(random.randint(1,5))\n",
    "    print(date.today())"
   ]
  },
  {
   "cell_type": "code",
   "execution_count": 50,
   "id": "a765829d",
   "metadata": {},
   "outputs": [],
   "source": [
    "p1 = mp.Process(target = today_date)"
   ]
  },
  {
   "cell_type": "code",
   "execution_count": 51,
   "id": "37c477f7",
   "metadata": {},
   "outputs": [],
   "source": [
    "p2 = mp.Process(target = today_date)"
   ]
  },
  {
   "cell_type": "code",
   "execution_count": 52,
   "id": "2b0e82f2",
   "metadata": {},
   "outputs": [],
   "source": [
    "p3 = mp.Process(target = today_date)"
   ]
  },
  {
   "cell_type": "code",
   "execution_count": 53,
   "id": "0d205fe0",
   "metadata": {},
   "outputs": [],
   "source": [
    "if __name__ == '__main__':\n",
    "    p1.start()\n",
    "    p2.start()\n",
    "    p3.start()\n",
    "    p1.join()\n",
    "    p2.join()\n",
    "    p3.join()"
   ]
  },
  {
   "cell_type": "code",
   "execution_count": null,
   "id": "bb9a256d",
   "metadata": {},
   "outputs": [],
   "source": []
  }
 ],
 "metadata": {
  "kernelspec": {
   "display_name": "Python 3 (ipykernel)",
   "language": "python",
   "name": "python3"
  },
  "language_info": {
   "codemirror_mode": {
    "name": "ipython",
    "version": 3
   },
   "file_extension": ".py",
   "mimetype": "text/x-python",
   "name": "python",
   "nbconvert_exporter": "python",
   "pygments_lexer": "ipython3",
   "version": "3.9.12"
  }
 },
 "nbformat": 4,
 "nbformat_minor": 5
}
